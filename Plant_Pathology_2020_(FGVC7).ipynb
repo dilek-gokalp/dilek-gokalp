{
  "nbformat": 4,
  "nbformat_minor": 0,
  "metadata": {
    "colab": {
      "provenance": [],
      "gpuType": "T4",
      "authorship_tag": "ABX9TyOQnLYv20/OWOHHy3cWIeHA",
      "include_colab_link": true
    },
    "kernelspec": {
      "name": "python3",
      "display_name": "Python 3"
    },
    "language_info": {
      "name": "python"
    },
    "accelerator": "GPU"
  },
  "cells": [
    {
      "cell_type": "markdown",
      "metadata": {
        "id": "view-in-github",
        "colab_type": "text"
      },
      "source": [
        "<a href=\"https://colab.research.google.com/github/dilek-gokalp/dilek-gokalp/blob/main/Plant_Pathology_2020_(FGVC7).ipynb\" target=\"_parent\"><img src=\"https://colab.research.google.com/assets/colab-badge.svg\" alt=\"Open In Colab\"/></a>"
      ]
    },
    {
      "cell_type": "code",
      "source": [
        "from google.colab import files\n",
        "files.upload()"
      ],
      "metadata": {
        "colab": {
          "base_uri": "https://localhost:8080/",
          "height": 91
        },
        "id": "6v_cIdCmRzWj",
        "outputId": "537e3902-0ff1-4796-878e-55c28cc49b1c"
      },
      "execution_count": 16,
      "outputs": [
        {
          "output_type": "display_data",
          "data": {
            "text/plain": [
              "<IPython.core.display.HTML object>"
            ],
            "text/html": [
              "\n",
              "     <input type=\"file\" id=\"files-a3fb9152-f957-47e7-b984-faac7ae6e10d\" name=\"files[]\" multiple disabled\n",
              "        style=\"border:none\" />\n",
              "     <output id=\"result-a3fb9152-f957-47e7-b984-faac7ae6e10d\">\n",
              "      Upload widget is only available when the cell has been executed in the\n",
              "      current browser session. Please rerun this cell to enable.\n",
              "      </output>\n",
              "      <script>// Copyright 2017 Google LLC\n",
              "//\n",
              "// Licensed under the Apache License, Version 2.0 (the \"License\");\n",
              "// you may not use this file except in compliance with the License.\n",
              "// You may obtain a copy of the License at\n",
              "//\n",
              "//      http://www.apache.org/licenses/LICENSE-2.0\n",
              "//\n",
              "// Unless required by applicable law or agreed to in writing, software\n",
              "// distributed under the License is distributed on an \"AS IS\" BASIS,\n",
              "// WITHOUT WARRANTIES OR CONDITIONS OF ANY KIND, either express or implied.\n",
              "// See the License for the specific language governing permissions and\n",
              "// limitations under the License.\n",
              "\n",
              "/**\n",
              " * @fileoverview Helpers for google.colab Python module.\n",
              " */\n",
              "(function(scope) {\n",
              "function span(text, styleAttributes = {}) {\n",
              "  const element = document.createElement('span');\n",
              "  element.textContent = text;\n",
              "  for (const key of Object.keys(styleAttributes)) {\n",
              "    element.style[key] = styleAttributes[key];\n",
              "  }\n",
              "  return element;\n",
              "}\n",
              "\n",
              "// Max number of bytes which will be uploaded at a time.\n",
              "const MAX_PAYLOAD_SIZE = 100 * 1024;\n",
              "\n",
              "function _uploadFiles(inputId, outputId) {\n",
              "  const steps = uploadFilesStep(inputId, outputId);\n",
              "  const outputElement = document.getElementById(outputId);\n",
              "  // Cache steps on the outputElement to make it available for the next call\n",
              "  // to uploadFilesContinue from Python.\n",
              "  outputElement.steps = steps;\n",
              "\n",
              "  return _uploadFilesContinue(outputId);\n",
              "}\n",
              "\n",
              "// This is roughly an async generator (not supported in the browser yet),\n",
              "// where there are multiple asynchronous steps and the Python side is going\n",
              "// to poll for completion of each step.\n",
              "// This uses a Promise to block the python side on completion of each step,\n",
              "// then passes the result of the previous step as the input to the next step.\n",
              "function _uploadFilesContinue(outputId) {\n",
              "  const outputElement = document.getElementById(outputId);\n",
              "  const steps = outputElement.steps;\n",
              "\n",
              "  const next = steps.next(outputElement.lastPromiseValue);\n",
              "  return Promise.resolve(next.value.promise).then((value) => {\n",
              "    // Cache the last promise value to make it available to the next\n",
              "    // step of the generator.\n",
              "    outputElement.lastPromiseValue = value;\n",
              "    return next.value.response;\n",
              "  });\n",
              "}\n",
              "\n",
              "/**\n",
              " * Generator function which is called between each async step of the upload\n",
              " * process.\n",
              " * @param {string} inputId Element ID of the input file picker element.\n",
              " * @param {string} outputId Element ID of the output display.\n",
              " * @return {!Iterable<!Object>} Iterable of next steps.\n",
              " */\n",
              "function* uploadFilesStep(inputId, outputId) {\n",
              "  const inputElement = document.getElementById(inputId);\n",
              "  inputElement.disabled = false;\n",
              "\n",
              "  const outputElement = document.getElementById(outputId);\n",
              "  outputElement.innerHTML = '';\n",
              "\n",
              "  const pickedPromise = new Promise((resolve) => {\n",
              "    inputElement.addEventListener('change', (e) => {\n",
              "      resolve(e.target.files);\n",
              "    });\n",
              "  });\n",
              "\n",
              "  const cancel = document.createElement('button');\n",
              "  inputElement.parentElement.appendChild(cancel);\n",
              "  cancel.textContent = 'Cancel upload';\n",
              "  const cancelPromise = new Promise((resolve) => {\n",
              "    cancel.onclick = () => {\n",
              "      resolve(null);\n",
              "    };\n",
              "  });\n",
              "\n",
              "  // Wait for the user to pick the files.\n",
              "  const files = yield {\n",
              "    promise: Promise.race([pickedPromise, cancelPromise]),\n",
              "    response: {\n",
              "      action: 'starting',\n",
              "    }\n",
              "  };\n",
              "\n",
              "  cancel.remove();\n",
              "\n",
              "  // Disable the input element since further picks are not allowed.\n",
              "  inputElement.disabled = true;\n",
              "\n",
              "  if (!files) {\n",
              "    return {\n",
              "      response: {\n",
              "        action: 'complete',\n",
              "      }\n",
              "    };\n",
              "  }\n",
              "\n",
              "  for (const file of files) {\n",
              "    const li = document.createElement('li');\n",
              "    li.append(span(file.name, {fontWeight: 'bold'}));\n",
              "    li.append(span(\n",
              "        `(${file.type || 'n/a'}) - ${file.size} bytes, ` +\n",
              "        `last modified: ${\n",
              "            file.lastModifiedDate ? file.lastModifiedDate.toLocaleDateString() :\n",
              "                                    'n/a'} - `));\n",
              "    const percent = span('0% done');\n",
              "    li.appendChild(percent);\n",
              "\n",
              "    outputElement.appendChild(li);\n",
              "\n",
              "    const fileDataPromise = new Promise((resolve) => {\n",
              "      const reader = new FileReader();\n",
              "      reader.onload = (e) => {\n",
              "        resolve(e.target.result);\n",
              "      };\n",
              "      reader.readAsArrayBuffer(file);\n",
              "    });\n",
              "    // Wait for the data to be ready.\n",
              "    let fileData = yield {\n",
              "      promise: fileDataPromise,\n",
              "      response: {\n",
              "        action: 'continue',\n",
              "      }\n",
              "    };\n",
              "\n",
              "    // Use a chunked sending to avoid message size limits. See b/62115660.\n",
              "    let position = 0;\n",
              "    do {\n",
              "      const length = Math.min(fileData.byteLength - position, MAX_PAYLOAD_SIZE);\n",
              "      const chunk = new Uint8Array(fileData, position, length);\n",
              "      position += length;\n",
              "\n",
              "      const base64 = btoa(String.fromCharCode.apply(null, chunk));\n",
              "      yield {\n",
              "        response: {\n",
              "          action: 'append',\n",
              "          file: file.name,\n",
              "          data: base64,\n",
              "        },\n",
              "      };\n",
              "\n",
              "      let percentDone = fileData.byteLength === 0 ?\n",
              "          100 :\n",
              "          Math.round((position / fileData.byteLength) * 100);\n",
              "      percent.textContent = `${percentDone}% done`;\n",
              "\n",
              "    } while (position < fileData.byteLength);\n",
              "  }\n",
              "\n",
              "  // All done.\n",
              "  yield {\n",
              "    response: {\n",
              "      action: 'complete',\n",
              "    }\n",
              "  };\n",
              "}\n",
              "\n",
              "scope.google = scope.google || {};\n",
              "scope.google.colab = scope.google.colab || {};\n",
              "scope.google.colab._files = {\n",
              "  _uploadFiles,\n",
              "  _uploadFilesContinue,\n",
              "};\n",
              "})(self);\n",
              "</script> "
            ]
          },
          "metadata": {}
        },
        {
          "output_type": "stream",
          "name": "stdout",
          "text": [
            "Saving kaggle.json to kaggle (1).json\n"
          ]
        },
        {
          "output_type": "execute_result",
          "data": {
            "text/plain": [
              "{'kaggle (1).json': b'{\"username\":\"dilekgokalpp\",\"key\":\"355a7e93f59ee099908afd5c3b630eea\"}'}"
            ]
          },
          "metadata": {},
          "execution_count": 16
        }
      ]
    },
    {
      "cell_type": "code",
      "source": [
        "!mkdir -p ~/.kaggle\n",
        "!cp kaggle.json ~/.kaggle/\n",
        "!chmod 600 ~/.kaggle/kaggle.json\n",
        "!kaggle --version\n"
      ],
      "metadata": {
        "colab": {
          "base_uri": "https://localhost:8080/"
        },
        "id": "mL3O4ynbTODn",
        "outputId": "be6b0a71-990e-42c9-94cb-94a841b4c330"
      },
      "execution_count": 17,
      "outputs": [
        {
          "output_type": "stream",
          "name": "stdout",
          "text": [
            "Kaggle API 1.7.4.5\n"
          ]
        }
      ]
    },
    {
      "cell_type": "code",
      "source": [
        "!mkdir -p /content/data\n",
        "!kaggle competitions download -c plant-pathology-2020-fgvc7 -p /content/data\n",
        "!unzip -q /content/data/plant-pathology-2020-fgvc7.zip -d /content/data/pp2020\n",
        "!ls -lah /content/data/pp2020 | head -n 20\n"
      ],
      "metadata": {
        "colab": {
          "base_uri": "https://localhost:8080/"
        },
        "id": "i5wRrGetUCnR",
        "outputId": "d603c6d4-ce5c-4e79-d709-acafdd6780c9"
      },
      "execution_count": 18,
      "outputs": [
        {
          "output_type": "stream",
          "name": "stdout",
          "text": [
            "plant-pathology-2020-fgvc7.zip: Skipping, found more recently modified local copy (use --force to force download)\n",
            "replace /content/data/pp2020/images/Test_0.jpg? [y]es, [n]o, [A]ll, [N]one, [r]ename: total 252K\n",
            "drwxr-xr-x 3 root root 4.0K Oct  8 10:53 .\n",
            "drwxr-xr-x 4 root root 4.0K Oct  8 10:53 ..\n",
            "drwxr-xr-x 2 root root 128K Oct  8 10:53 images\n",
            "-rw-r--r-- 1 root root  53K Mar  9  2020 sample_submission.csv\n",
            "-rw-r--r-- 1 root root  17K Mar  9  2020 test.csv\n",
            "-rw-r--r-- 1 root root  33K Mar  9  2020 train.csv\n"
          ]
        }
      ]
    },
    {
      "cell_type": "code",
      "source": [
        "import os, shutil, pandas as pd\n",
        "\n",
        "# 1. Ana klasörleri ayarlayalım\n",
        "root = '/content/data/pp2020'\n",
        "img_dir = os.path.join(root, 'images')\n",
        "out_dir = '/content/data/pp2020_imagefolder'\n",
        "os.makedirs(out_dir, exist_ok=True)\n",
        "\n",
        "# 2. Eğitim etiketlerini okuyalım\n",
        "df = pd.read_csv(os.path.join(root, 'train.csv'))\n",
        "print(\"Train CSV boyutu:\", df.shape)\n",
        "print(df.head())\n",
        "\n",
        "# 3. Etiket sütunlarını bul\n",
        "label_cols = [c for c in df.columns if c != 'image_id']\n",
        "\n",
        "# 4. Her satırda hangi sınıf 1 ise onu etiket olarak seç\n",
        "def row_to_label(row):\n",
        "    for c in label_cols:\n",
        "        if int(row[c]) == 1:\n",
        "            return c\n",
        "    return 'unknown'\n",
        "\n",
        "df['label'] = df.apply(row_to_label, axis=1)\n",
        "print(\"Sınıflar:\", df['label'].unique())\n",
        "\n",
        "# 5. Her sınıf için klasör oluştur\n",
        "for cls in sorted(df['label'].unique()):\n",
        "    os.makedirs(os.path.join(out_dir, cls), exist_ok=True)\n",
        "\n",
        "# 6. Görselleri uygun klasöre kopyala\n",
        "moved, missing = 0, 0\n",
        "for _, r in df.iterrows():\n",
        "    src = os.path.join(img_dir, f\"{r['image_id']}.jpg\")\n",
        "    dst = os.path.join(out_dir, r['label'], f\"{r['image_id']}.jpg\")\n",
        "    if os.path.exists(src):\n",
        "        shutil.copy2(src, dst)\n",
        "        moved += 1\n",
        "    else:\n",
        "        missing += 1\n",
        "\n",
        "print(f\"Kopyalanan görsel: {moved}, bulunamayan: {missing}\")\n",
        "!find /content/data/pp2020_imagefolder -maxdepth 2 -type f | head -n 10\n"
      ],
      "metadata": {
        "colab": {
          "base_uri": "https://localhost:8080/"
        },
        "id": "S69iFtBSUmzp",
        "outputId": "39b21c6e-da1d-4f65-84e2-b7640027e339"
      },
      "execution_count": 19,
      "outputs": [
        {
          "output_type": "stream",
          "name": "stdout",
          "text": [
            "Train CSV boyutu: (1821, 5)\n",
            "  image_id  healthy  multiple_diseases  rust  scab\n",
            "0  Train_0        0                  0     0     1\n",
            "1  Train_1        0                  1     0     0\n",
            "2  Train_2        1                  0     0     0\n",
            "3  Train_3        0                  0     1     0\n",
            "4  Train_4        1                  0     0     0\n",
            "Sınıflar: ['scab' 'multiple_diseases' 'healthy' 'rust']\n",
            "Kopyalanan görsel: 1821, bulunamayan: 0\n",
            "/content/data/pp2020_imagefolder/multiple_diseases/Train_1577.jpg\n",
            "/content/data/pp2020_imagefolder/multiple_diseases/Train_1369.jpg\n",
            "/content/data/pp2020_imagefolder/multiple_diseases/Train_1134.jpg\n",
            "/content/data/pp2020_imagefolder/multiple_diseases/Train_1013.jpg\n",
            "/content/data/pp2020_imagefolder/multiple_diseases/Train_1531.jpg\n",
            "/content/data/pp2020_imagefolder/multiple_diseases/Train_936.jpg\n",
            "/content/data/pp2020_imagefolder/multiple_diseases/Train_1494.jpg\n",
            "/content/data/pp2020_imagefolder/multiple_diseases/Train_1018.jpg\n",
            "/content/data/pp2020_imagefolder/multiple_diseases/Train_62.jpg\n",
            "/content/data/pp2020_imagefolder/multiple_diseases/Train_1558.jpg\n"
          ]
        }
      ]
    },
    {
      "cell_type": "code",
      "source": [
        "from torchvision import datasets, transforms\n",
        "\n",
        "\n",
        "DATA_DIR = '/content/data/pp2020_imagefolder'\n",
        "\n",
        "\n",
        "train_tfms = transforms.Compose([\n",
        "    transforms.Resize((224, 224)),\n",
        "    transforms.ToTensor()\n",
        "])\n",
        "\n",
        "\n",
        "full_ds = datasets.ImageFolder(DATA_DIR, transform=train_tfms)\n",
        "print(\"Total number of images:\", len(full_ds))\n",
        "print(\"Classes:\", full_ds.classes)\n"
      ],
      "metadata": {
        "colab": {
          "base_uri": "https://localhost:8080/"
        },
        "id": "n2m1CtZ_Wx7I",
        "outputId": "4440e133-7b71-40d5-efa7-7dbbe52c9624"
      },
      "execution_count": 20,
      "outputs": [
        {
          "output_type": "stream",
          "name": "stdout",
          "text": [
            "Total number of images: 1821\n",
            "Classes: ['healthy', 'multiple_diseases', 'rust', 'scab']\n"
          ]
        }
      ]
    },
    {
      "cell_type": "code",
      "source": [
        "import os, torch, torch.nn as nn, torch.optim as optim\n",
        "from torch.utils.data import DataLoader, random_split\n",
        "from torchvision import datasets, transforms, models\n",
        "from sklearn.metrics import classification_report, confusion_matrix\n",
        "import numpy as np\n",
        "import matplotlib.pyplot as plt\n",
        "\n",
        "print(\"Torch:\", torch.__version__, \"| CUDA:\", torch.cuda.is_available())\n",
        "\n",
        "DATA_DIR = \"/content/data/pp2020_imagefolder\"\n",
        "IMG_SIZE = 224\n",
        "BATCH_SIZE = 32\n",
        "EPOCHS = 8\n",
        "device = torch.device(\"cuda\" if torch.cuda.is_available() else \"cpu\")\n"
      ],
      "metadata": {
        "colab": {
          "base_uri": "https://localhost:8080/"
        },
        "id": "4GizO5ulX7Ae",
        "outputId": "81e5be52-c597-4e21-9227-e6d585fc64b6"
      },
      "execution_count": 21,
      "outputs": [
        {
          "output_type": "stream",
          "name": "stdout",
          "text": [
            "Torch: 2.8.0+cu126 | CUDA: True\n"
          ]
        }
      ]
    },
    {
      "cell_type": "code",
      "source": [
        "train_tfms = transforms.Compose([\n",
        "    transforms.Resize((IMG_SIZE, IMG_SIZE)),\n",
        "    transforms.RandomHorizontalFlip(),\n",
        "    transforms.ToTensor(),\n",
        "    transforms.Normalize([0.485,0.456,0.406],[0.229,0.224,0.225]),\n",
        "])\n",
        "\n",
        "test_tfms = transforms.Compose([\n",
        "    transforms.Resize((IMG_SIZE, IMG_SIZE)),\n",
        "    transforms.ToTensor(),\n",
        "    transforms.Normalize([0.485,0.456,0.406],[0.229,0.224,0.225]),\n",
        "])\n",
        "\n",
        "full_ds = datasets.ImageFolder(DATA_DIR, transform=train_tfms)\n",
        "class_names = full_ds.classes\n",
        "num_classes = len(class_names)\n",
        "\n",
        "n_total = len(full_ds)\n",
        "n_val   = int(0.15 * n_total)\n",
        "n_test  = int(0.15 * n_total)\n",
        "n_train = n_total - n_val - n_test\n",
        "\n",
        "train_ds, val_ds, test_ds = random_split(full_ds, [n_train, n_val, n_test])\n",
        "val_ds.dataset.transform = test_tfms\n",
        "test_ds.dataset.transform = test_tfms\n",
        "\n",
        "train_loader = DataLoader(train_ds, batch_size=BATCH_SIZE, shuffle=True)\n",
        "val_loader   = DataLoader(val_ds,   batch_size=BATCH_SIZE, shuffle=False)\n",
        "test_loader  = DataLoader(test_ds,  batch_size=BATCH_SIZE, shuffle=False)\n",
        "\n",
        "print(\"Total:\", n_total, \"| Train:\", len(train_ds), \"Val:\", len(val_ds), \"Test:\", len(test_ds))\n",
        "print(\"Classes:\", class_names)\n"
      ],
      "metadata": {
        "colab": {
          "base_uri": "https://localhost:8080/"
        },
        "id": "w3wwOIGJYNdc",
        "outputId": "f1e63a75-a133-4b14-a16e-c88226431515"
      },
      "execution_count": 22,
      "outputs": [
        {
          "output_type": "stream",
          "name": "stdout",
          "text": [
            "Total: 1821 | Train: 1275 Val: 273 Test: 273\n",
            "Classes: ['healthy', 'multiple_diseases', 'rust', 'scab']\n"
          ]
        }
      ]
    },
    {
      "cell_type": "code",
      "source": [
        "# Model\n",
        "resnet = models.resnet50(weights=models.ResNet50_Weights.DEFAULT)\n",
        "in_f = resnet.fc.in_features\n",
        "resnet.fc = nn.Linear(in_f, num_classes)\n",
        "resnet = resnet.to(device)\n",
        "\n",
        "criterion = nn.CrossEntropyLoss()\n",
        "optimizer = optim.Adam(resnet.parameters(), lr=3e-4)\n",
        "\n",
        "best_val_acc = 0.0\n",
        "for epoch in range(1, EPOCHS+1):\n",
        "    # ---- Train ----\n",
        "    resnet.train()\n",
        "    train_correct, train_total, train_loss_sum = 0, 0, 0.0\n",
        "    for x, y in train_loader:\n",
        "        x, y = x.to(device), y.to(device)\n",
        "        optimizer.zero_grad()\n",
        "        out = resnet(x)\n",
        "        loss = criterion(out, y)\n",
        "        loss.backward()\n",
        "        optimizer.step()\n",
        "        train_loss_sum += loss.item() * x.size(0)\n",
        "        train_correct += (out.argmax(1) == y).sum().item()\n",
        "        train_total += y.size(0)\n",
        "    train_acc = train_correct / train_total\n",
        "    train_loss = train_loss_sum / train_total\n",
        "\n",
        "    # ---- Val ----\n",
        "    resnet.eval()\n",
        "    val_correct, val_total, val_loss_sum = 0, 0, 0.0\n",
        "    with torch.no_grad():\n",
        "        for x, y in val_loader:\n",
        "            x, y = x.to(device), y.to(device)\n",
        "            out = resnet(x)\n",
        "            loss = criterion(out, y)\n",
        "            val_loss_sum += loss.item() * x.size(0)\n",
        "            val_correct += (out.argmax(1) == y).sum().item()\n",
        "            val_total += y.size(0)\n",
        "    val_acc = val_correct / val_total\n",
        "    val_loss = val_loss_sum / val_total\n",
        "\n",
        "\n",
        "    if val_acc > best_val_acc:\n",
        "        best_val_acc = val_acc\n",
        "        best_state = resnet.state_dict()\n",
        "\n",
        "    print(f\"Epoch {epoch:02d} | train acc {train_acc:.4f} loss {train_loss:.4f} | val acc {val_acc:.4f} loss {val_loss:.4f}\")\n",
        "\n",
        "\n",
        "resnet.load_state_dict(best_state)\n"
      ],
      "metadata": {
        "colab": {
          "base_uri": "https://localhost:8080/"
        },
        "id": "ru59VAFmYi_Y",
        "outputId": "ed966556-c867-48ce-9cda-5d0edfde090e"
      },
      "execution_count": 24,
      "outputs": [
        {
          "output_type": "stream",
          "name": "stdout",
          "text": [
            "Epoch 01 | train acc 0.8141 loss 0.6159 | val acc 0.9451 loss 0.1887\n",
            "Epoch 02 | train acc 0.9459 loss 0.1739 | val acc 0.9451 loss 0.1728\n",
            "Epoch 03 | train acc 0.9796 loss 0.0789 | val acc 0.9524 loss 0.1705\n",
            "Epoch 04 | train acc 0.9922 loss 0.0313 | val acc 0.9487 loss 0.1925\n",
            "Epoch 05 | train acc 0.9929 loss 0.0264 | val acc 0.9267 loss 0.3041\n",
            "Epoch 06 | train acc 0.9867 loss 0.0427 | val acc 0.9487 loss 0.1832\n",
            "Epoch 07 | train acc 0.9890 loss 0.0458 | val acc 0.9487 loss 0.1829\n",
            "Epoch 08 | train acc 0.9906 loss 0.0357 | val acc 0.9414 loss 0.2532\n"
          ]
        },
        {
          "output_type": "execute_result",
          "data": {
            "text/plain": [
              "<All keys matched successfully>"
            ]
          },
          "metadata": {},
          "execution_count": 24
        }
      ]
    },
    {
      "cell_type": "code",
      "source": [
        "import numpy as np, matplotlib.pyplot as plt\n",
        "from sklearn.metrics import classification_report, confusion_matrix\n",
        "\n",
        "resnet.eval()\n",
        "y_true, y_pred = [], []\n",
        "with torch.no_grad():\n",
        "    for x, y in test_loader:\n",
        "        x = x.to(device)\n",
        "        y_pred.append(resnet(x).argmax(1).cpu().numpy())\n",
        "        y_true.append(y.cpu().numpy())\n",
        "y_true = np.concatenate(y_true); y_pred = np.concatenate(y_pred)\n",
        "\n",
        "print(\"Test Accuracy (ResNet50):\", (y_true == y_pred).mean())\n",
        "print(\"\\nClassification Report (ResNet50):\")\n",
        "print(classification_report(y_true, y_pred, target_names=class_names, digits=4))\n",
        "\n",
        "cm = confusion_matrix(y_true, y_pred)\n",
        "plt.figure(figsize=(6,6))\n",
        "plt.imshow(cm, interpolation='nearest'); plt.title('Confusion Matrix - ResNet50')\n",
        "plt.colorbar(); ticks = np.arange(len(class_names))\n",
        "plt.xticks(ticks, class_names, rotation=90); plt.yticks(ticks, class_names)\n",
        "plt.tight_layout(); plt.xlabel('Predicted'); plt.ylabel('True'); plt.show()\n"
      ],
      "metadata": {
        "colab": {
          "base_uri": "https://localhost:8080/",
          "height": 848
        },
        "id": "2JtbNPF3f-Dd",
        "outputId": "fb113eda-8503-47eb-8396-4f159a026a0d"
      },
      "execution_count": 25,
      "outputs": [
        {
          "output_type": "stream",
          "name": "stdout",
          "text": [
            "Test Accuracy (ResNet50): 0.9377289377289377\n",
            "\n",
            "Classification Report (ResNet50):\n",
            "                   precision    recall  f1-score   support\n",
            "\n",
            "          healthy     0.8842    1.0000    0.9385        84\n",
            "multiple_diseases     0.7500    0.2727    0.4000        11\n",
            "             rust     0.9895    0.9495    0.9691        99\n",
            "             scab     0.9494    0.9494    0.9494        79\n",
            "\n",
            "         accuracy                         0.9377       273\n",
            "        macro avg     0.8933    0.7929    0.8142       273\n",
            "     weighted avg     0.9358    0.9377    0.9310       273\n",
            "\n"
          ]
        },
        {
          "output_type": "display_data",
          "data": {
            "text/plain": [
              "<Figure size 600x600 with 2 Axes>"
            ],
            "image/png": "[encoded data removed]"
          },
          "metadata": {}
        }
      ]
    },
    {
      "cell_type": "code",
      "source": [
        "EPOCHS = 3\n",
        "mobilenet = models.mobilenet_v3_small(weights=models.MobileNet_V3_Small_Weights.DEFAULT)\n",
        "in_f = mobilenet.classifier[-1].in_features\n",
        "mobilenet.classifier[-1] = nn.Linear(in_f, num_classes)\n",
        "mobilenet = mobilenet.to(device)\n",
        "\n",
        "crit = nn.CrossEntropyLoss()\n",
        "opt  = optim.Adam(mobilenet.parameters(), lr=3e-4)\n",
        "best_state_m, best_val_acc_m = None, 0.0\n",
        "\n",
        "for ep in range(1, EPOCHS+1):\n",
        "    mobilenet.train(); tr_c=tr_t=0; tr_l=0.0\n",
        "    for x,y in train_loader:\n",
        "        x,y = x.to(device), y.to(device)\n",
        "        opt.zero_grad(); out = mobilenet(x); loss = crit(out,y)\n",
        "        loss.backward(); opt.step()\n",
        "        tr_l += loss.item()*x.size(0); tr_c += (out.argmax(1)==y).sum().item(); tr_t += y.size(0)\n",
        "    tr_acc, tr_loss = tr_c/tr_t, tr_l/tr_t\n",
        "\n",
        "    mobilenet.eval(); va_c=va_t=0; va_l=0.0\n",
        "    with torch.no_grad():\n",
        "        for x,y in val_loader:\n",
        "            x,y = x.to(device), y.to(device)\n",
        "            out = mobilenet(x); loss = crit(out,y)\n",
        "            va_l += loss.item()*x.size(0); va_c += (out.argmax(1)==y).sum().item(); va_t += y.size(0)\n",
        "    va_acc, va_loss = va_c/va_t, va_l/va_t\n",
        "    if va_acc > best_val_acc_m: best_val_acc_m, best_state_m = va_acc, mobilenet.state_dict()\n",
        "    print(f\"Epoch {ep:02d} | train acc {tr_acc:.4f} loss {tr_loss:.4f} | val acc {va_acc:.4f} loss {va_loss:.4f}\")\n",
        "\n",
        "mobilenet.load_state_dict(best_state_m)\n"
      ],
      "metadata": {
        "colab": {
          "base_uri": "https://localhost:8080/"
        },
        "id": "GSZ09r71gbYR",
        "outputId": "a00e22ac-f1ed-44d0-c586-2c84397fb3b4"
      },
      "execution_count": 26,
      "outputs": [
        {
          "output_type": "stream",
          "name": "stdout",
          "text": [
            "Epoch 01 | train acc 0.7239 loss 0.7865 | val acc 0.8864 loss 0.3654\n",
            "Epoch 02 | train acc 0.8965 loss 0.2906 | val acc 0.9267 loss 0.2650\n",
            "Epoch 03 | train acc 0.9569 loss 0.1312 | val acc 0.9341 loss 0.1997\n"
          ]
        },
        {
          "output_type": "execute_result",
          "data": {
            "text/plain": [
              "<All keys matched successfully>"
            ]
          },
          "metadata": {},
          "execution_count": 26
        }
      ]
    },
    {
      "cell_type": "code",
      "source": [
        "mobilenet.eval()\n",
        "y_true, y_pred = [], []\n",
        "with torch.no_grad():\n",
        "    for x, y in test_loader:\n",
        "        x = x.to(device)\n",
        "        y_pred.append(mobilenet(x).argmax(1).cpu().numpy())\n",
        "        y_true.append(y.cpu().numpy())\n",
        "y_true = np.concatenate(y_true); y_pred = np.concatenate(y_pred)\n",
        "\n",
        "print(\"Test Accuracy (MobileNetV3-Small):\", (y_true == y_pred).mean())\n",
        "print(\"\\nClassification Report (MobileNetV3-Small):\")\n",
        "print(classification_report(y_true, y_pred, target_names=class_names, digits=4))\n",
        "\n",
        "cm = confusion_matrix(y_true, y_pred)\n",
        "plt.figure(figsize=(6,6))\n",
        "plt.imshow(cm, interpolation='nearest'); plt.title('Confusion Matrix - MobileNetV3-Small')\n",
        "plt.colorbar(); ticks = np.arange(len(class_names))\n",
        "plt.xticks(ticks, class_names, rotation=90); plt.yticks(ticks, class_names)\n",
        "plt.tight_layout(); plt.xlabel('Predicted'); plt.ylabel('True'); plt.show()\n"
      ],
      "metadata": {
        "colab": {
          "base_uri": "https://localhost:8080/",
          "height": 848
        },
        "id": "ehQrWs4pgpTu",
        "outputId": "bc92d72c-c000-47bb-969f-ecd8c718a360"
      },
      "execution_count": 27,
      "outputs": [
        {
          "output_type": "stream",
          "name": "stdout",
          "text": [
            "Test Accuracy (MobileNetV3-Small): 0.9120879120879121\n",
            "\n",
            "Classification Report (MobileNetV3-Small):\n",
            "                   precision    recall  f1-score   support\n",
            "\n",
            "          healthy     0.8817    0.9762    0.9266        84\n",
            "multiple_diseases     0.5000    0.0909    0.1538        11\n",
            "             rust     0.9600    0.9697    0.9648        99\n",
            "             scab     0.8974    0.8861    0.8917        79\n",
            "\n",
            "         accuracy                         0.9121       273\n",
            "        macro avg     0.8098    0.7307    0.7342       273\n",
            "     weighted avg     0.8993    0.9121    0.8992       273\n",
            "\n"
          ]
        },
        {
          "output_type": "display_data",
          "data": {
            "text/plain": [
              "<Figure size 600x600 with 2 Axes>"
            ],
            "image/png": "[encoded data removed]"
          },
          "metadata": {}
        }
      ]
    },
    {
      "cell_type": "code",
      "source": [
        "import numpy as np, pandas as pd\n",
        "from sklearn.metrics import f1_score\n",
        "\n",
        "def get_preds(model, loader):\n",
        "    model.eval(); y_true, y_pred = [], []\n",
        "    with torch.no_grad():\n",
        "        for x,y in loader:\n",
        "            x = x.to(device)\n",
        "            y_pred.append(model(x).argmax(1).cpu().numpy())\n",
        "            y_true.append(y.numpy())\n",
        "    y_true = np.concatenate(y_true); y_pred = np.concatenate(y_pred)\n",
        "    acc = (y_true == y_pred).mean()\n",
        "    mf1 = f1_score(y_true, y_pred, average='macro')\n",
        "    return acc, mf1\n",
        "\n",
        "rows = []\n",
        "for mdl, name in [(resnet, 'ResNet50'), (mobilenet, 'MobileNetV3-Small')]:\n",
        "    acc, mf1 = get_preds(mdl, test_loader)\n",
        "    params = sum(p.numel() for p in mdl.parameters() if p.requires_grad)\n",
        "    rows.append({'model': name, 'accuracy': round(acc,4), 'macro_f1': round(mf1,4), 'params': int(params)})\n",
        "\n",
        "df = pd.DataFrame(rows)\n",
        "print(df)\n",
        "df.to_csv('results_summary.csv', index=False)\n"
      ],
      "metadata": {
        "id": "3CJ1xBlIhopn"
      },
      "execution_count": null,
      "outputs": []
    },
    {
      "cell_type": "code",
      "source": [
        "import matplotlib.pyplot as plt\n",
        "from sklearn.metrics import classification_report, confusion_matrix\n",
        "\n",
        "def save_report_and_cm(model, name):\n",
        "    # preds\n",
        "    model.eval(); y_true, y_pred = [], []\n",
        "    with torch.no_grad():\n",
        "        for x,y in test_loader:\n",
        "            x = x.to(device)\n",
        "            y_pred.append(model(x).argmax(1).cpu().numpy())\n",
        "            y_true.append(y.numpy())\n",
        "    y_true = np.concatenate(y_true); y_pred = np.concatenate(y_pred)\n",
        "\n",
        "    # report -> txt\n",
        "    rep = classification_report(y_true, y_pred, target_names=class_names, digits=4)\n",
        "    with open(f\"{name}_classification_report.txt\",\"w\") as f: f.write(rep)\n",
        "\n",
        "    # cm -> png\n",
        "    cm = confusion_matrix(y_true, y_pred)\n",
        "    plt.figure(figsize=(6,6))\n",
        "    plt.imshow(cm, interpolation='nearest')\n",
        "    plt.title(f'Confusion Matrix - {name}')\n",
        "    plt.colorbar()\n",
        "    ticks = np.arange(len(class_names))\n",
        "    plt.xticks(ticks, class_names, rotation=90); plt.yticks(ticks, class_names)\n",
        "    plt.tight_layout(); plt.xlabel('Predicted'); plt.ylabel('True')\n",
        "    plt.savefig(f\"{name}_confusion_matrix.png\", dpi=150, bbox_inches='tight')\n",
        "    plt.show()\n",
        "\n",
        "save_report_and_cm(resnet,    \"resnet50\")\n",
        "save_report_and_cm(mobilenet, \"mobilenetv3_small\")\n"
      ],
      "metadata": {
        "id": "jGdrH4bDiH1Z"
      },
      "execution_count": null,
      "outputs": []
    }
  ]
}