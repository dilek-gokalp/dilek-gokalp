{
  "nbformat": 4,
  "nbformat_minor": 0,
  "metadata": {
    "colab": {
      "provenance": [],
      "toc_visible": true,
      "include_colab_link": true
    },
    "kernelspec": {
      "name": "python3",
      "display_name": "Python 3"
    },
    "language_info": {
      "name": "python"
    }
  },
  "cells": [
    {
      "cell_type": "markdown",
      "metadata": {
        "id": "view-in-github",
        "colab_type": "text"
      },
      "source": [
        "<a href=\"https://colab.research.google.com/github/dilek-gokalp/dilek-gokalp/blob/main/mushrooms.ipynb\" target=\"_parent\"><img src=\"https://colab.research.google.com/assets/colab-badge.svg\" alt=\"Open In Colab\"/></a>"
      ]
    },
    {
      "cell_type": "code",
      "source": [],
      "metadata": {
        "id": "kYj4acX9bJvT"
      },
      "execution_count": null,
      "outputs": []
    },
    {
      "cell_type": "code",
      "source": [
        "import numpy as np\n",
        "E=4208\n",
        "P=3916\n",
        "N = E+P\n",
        "P_E = E/N\n",
        "p_P = P/N\n",
        "Entropy = -P_E*np.log2(P_E)-p_P*np.log2(p_P)\n",
        "print(Entropy)"
      ],
      "metadata": {
        "colab": {
          "base_uri": "https://localhost:8080/"
        },
        "id": "_eusO2wYq5Lc",
        "outputId": "23dc5c3b-5607-4733-979f-4e2cf4a24337"
      },
      "execution_count": null,
      "outputs": [
        {
          "output_type": "stream",
          "name": "stdout",
          "text": [
            "0.9990678968724603\n"
          ]
        }
      ]
    },
    {
      "source": [
        "import numpy as np\n",
        "\n",
        "def entropy(class_counts):\n",
        "    total = sum(class_counts)\n",
        "    if total == 0:\n",
        "        return 0\n",
        "    probabilities = [count / total for count in class_counts if count > 0]\n",
        "    return -sum(p * np.log2(p) for p in probabilities)\n",
        "\n",
        "cap_color_data = {\n",
        "    \"Gray\": [1000, 900],\n",
        "    \"Yellow\": [1300,1100],\n",
        "    \"White\": [1508,1412],\n",
        "    \"Red\": [400,504]\n",
        "}\n",
        "Total_mushrooms = sum(sum(values) for values in cap_color_data.values())\n",
        "E,P = 4208,3916\n",
        "Entropy_total = entropy([E,P])\n",
        "\n",
        "Weighted_entropy = sum(sum(values) / Total_mushrooms * entropy(values) for values in cap_color_data.values())\n",
        "Information_gain = Entropy_total - Weighted_entropy\n",
        "print(f\"Information Gain for Cap-color: {Information_gain:.4f}\")"
      ],
      "cell_type": "code",
      "metadata": {
        "colab": {
          "base_uri": "https://localhost:8080/"
        },
        "id": "etuVCOvgeqTl",
        "outputId": "6fc2017f-77b0-4144-e217-cbe42c089da4"
      },
      "execution_count": null,
      "outputs": [
        {
          "output_type": "stream",
          "name": "stdout",
          "text": [
            "Information Gain for Cap-color: 0.0024\n"
          ]
        }
      ]
    },
    {
      "cell_type": "code",
      "source": [
        "# Step 3: Encode Categorical Data\n",
        "label_encoder = LabelEncoder()\n",
        "for column in data.columns:\n",
        "    data[column] = label_encoder.fit_transform(data[column])"
      ],
      "metadata": {
        "id": "rFrb1krBc5Bg"
      },
      "execution_count": null,
      "outputs": []
    },
    {
      "cell_type": "code",
      "source": [
        "# Step 4: Split Data into Features and Target\n",
        "X = data.drop('class', axis=1)\n",
        "y = data['class']\n",
        "X_train, X_test, y_train, y_test = train_test_split(X, y, test_size=0.3, random_state=42)"
      ],
      "metadata": {
        "id": "y0dGizAFeCx4"
      },
      "execution_count": null,
      "outputs": []
    },
    {
      "cell_type": "code",
      "source": [
        "# Step 5: Define Models and Metrics\n",
        "def evaluate_model(model, X_train, X_test, y_train, y_test):\n",
        "    model.fit(X_train, y_train)\n",
        "    y_pred = model.predict(X_test)\n",
        "    accuracy = accuracy_score(y_test, y_pred)\n",
        "    precision = precision_score(y_test, y_pred)\n",
        "    recall = recall_score(y_test, y_pred)\n",
        "    f1 = f1_score(y_test, y_pred)\n",
        "    report = classification_report(y_test, y_pred)\n",
        "    return accuracy, precision, recall, f1, report"
      ],
      "metadata": {
        "id": "6VS_PPyReGm3"
      },
      "execution_count": null,
      "outputs": []
    },
    {
      "source": [
        "def evaluate_model(model, X_train, X_test, y_train, y_test):\n",
        "    model.fit(X_train, y_train)\n",
        "    y_pred = model.predict(X_test)\n",
        "    accuracy = accuracy_score(y_test, y_pred)\n",
        "    precision = precision_score(y_test, y_pred)\n",
        "    recall = recall_score(y_test, y_pred)\n",
        "    f1 = f1_score(y_test, y_pred)\n",
        "    report = classification_report(y_test, y_pred)\n",
        "    return accuracy, precision, recall, f1, report"
      ],
      "cell_type": "code",
      "metadata": {
        "id": "kiZ5_FXMfHa5"
      },
      "execution_count": null,
      "outputs": []
    },
    {
      "cell_type": "code",
      "source": [
        "import numpy as np\n",
        "\n",
        "# Given dataset values\n",
        "total_mushrooms = 8124  # Total number of mushrooms\n",
        "\n",
        "# Subgroup counts based on odor\n",
        "odor_groups = {\n",
        "    \"Almond\": {\"E\": 2000, \"P\": 0, \"Total\": 2000, \"Prob\": 2000 / total_mushrooms},\n",
        "    \"Pungent\": {\"E\": 0, \"P\": 1900, \"Total\": 1900, \"Prob\": 1900 / total_mushrooms},\n",
        "    \"None\": {\"E\": 900, \"P\": 2224, \"Total\": 3124, \"Prob\": 3124 / total_mushrooms},\n",
        "    \"Spice\": {\"E\": 808, \"P\": 292, \"Total\": 1100, \"Prob\": 1100 / total_mushrooms}\n",
        "}\n",
        "\n",
        "# Given entropy values for each subgroup\n",
        "entropy_values = {\n",
        "    \"Almond\": 0,    # Entropy is 0 because all are edible\n",
        "    \"Pungent\": 0,   # Entropy is 0 because all are poisonous\n",
        "    \"None\": 0.897,\n",
        "    \"Spice\": 0.836\n",
        "}\n",
        "\n",
        "# Compute Weighted Entropy\n",
        "weighted_entropy = sum(odor_groups[key][\"Prob\"] * entropy_values[key] for key in odor_groups)\n",
        "\n",
        "# Compute Information Gain\n",
        "H_class = 0.999  # Entropy of the entire dataset\n",
        "IG_odor = H_class - weighted_entropy\n",
        "\n",
        "# Print result\n",
        "print(f\"Information Gain for 'Odor': {IG_odor:.3f}\")\n"
      ],
      "metadata": {
        "colab": {
          "base_uri": "https://localhost:8080/"
        },
        "id": "w-yp44bayfim",
        "outputId": "a1ce7a38-6f33-4b5c-d809-4794ec644f6b"
      },
      "execution_count": null,
      "outputs": [
        {
          "output_type": "stream",
          "name": "stdout",
          "text": [
            "Information Gain for 'Odor': 0.541\n"
          ]
        }
      ]
    },
    {
      "source": [
        "E = 4208\n",
        "P = 3916\n",
        "N = E+P\n",
        "P_E = E/N\n",
        "p_P = P/N\n",
        "error_rate =min(P_E,p_P) # Changed Error_rate to error_rate\n",
        "print(f\"Expected Misclassification Rate : {error_rate:.4f}\")"
      ],
      "cell_type": "code",
      "metadata": {
        "colab": {
          "base_uri": "https://localhost:8080/"
        },
        "id": "C9InjNTvIQQ0",
        "outputId": "d618aab4-6836-4561-f467-75a5128388bc"
      },
      "execution_count": null,
      "outputs": [
        {
          "output_type": "stream",
          "name": "stdout",
          "text": [
            "Expected Misclassification Rate : 0.4820\n"
          ]
        }
      ]
    },
    {
      "cell_type": "code",
      "source": [
        "# Import necessary libraries\n",
        "import pandas as pd\n",
        "from sklearn.model_selection import train_test_split\n",
        "from sklearn.preprocessing import LabelEncoder\n",
        "from sklearn.ensemble import RandomForestClassifier\n",
        "from sklearn.tree import DecisionTreeClassifier\n",
        "from sklearn.linear_model import LogisticRegression\n",
        "from sklearn.svm import SVC\n",
        "from sklearn.neighbors import KNeighborsClassifier\n",
        "from sklearn.metrics import accuracy_score, precision_score, recall_score, f1_score\n",
        "\n",
        "# Load the dataset\n",
        "url = 'https://raw.githubusercontent.com/usmanakhtar/Mushrooms-dataset/master/mushrooms.csv'\n",
        "data = pd.read_csv(url)\n",
        "\n",
        "# Encode categorical data into numbers\n",
        "label_encoder = LabelEncoder()\n",
        "data_encoded = data.apply(label_encoder.fit_transform)\n",
        "\n",
        "# Define features (X) and target variable (y)\n",
        "X = data_encoded.drop('class', axis=1)  # Features\n",
        "y = data_encoded['class']  # Target variable (edible or poisonous)\n",
        "\n",
        "# Split data into training and testing sets (80% train, 20% test)\n",
        "X_train, X_test, y_train, y_test = train_test_split(X, y, test_size=0.2, random_state=42)\n",
        "\n",
        "# Function to train and evaluate a model\n",
        "def evaluate_model(model, X_train, X_test, y_train, y_test):\n",
        "    model.fit(X_train, y_train)  # Train the model\n",
        "    y_pred = model.predict(X_test)  # Make predictions\n",
        "    accuracy = accuracy_score(y_test, y_pred)\n",
        "    precision = precision_score(y_test, y_pred)\n",
        "    recall = recall_score(y_test, y_pred)\n",
        "    f1 = f1_score(y_test, y_pred)\n",
        "\n",
        "    print(f\"Accuracy: {accuracy:.2f}\")\n",
        "    print(f\"Precision: {precision:.2f}\")\n",
        "    print(f\"Recall: {recall:.2f}\")\n",
        "    print(f\"F1-Score: {f1:.2f}\")\n",
        "    print('---' * 10)\n",
        "\n",
        "# Random Forest Classifier\n",
        "print(\"Random Forest Classifier:\")\n",
        "rf_model = RandomForestClassifier(random_state=42)\n",
        "evaluate_model(rf_model, X_train, X_test, y_train, y_test)\n",
        "\n",
        "# Decision Tree Classifier\n",
        "print(\"Decision Tree Classifier:\")\n",
        "dt_model = DecisionTreeClassifier(random_state=42)\n",
        "evaluate_model(dt_model, X_train, X_test, y_train, y_test)\n",
        "\n",
        "# Logistic Regression\n",
        "print(\"Logistic Regression:\")\n",
        "log_reg_model = LogisticRegression(random_state=42)\n",
        "evaluate_model(log_reg_model, X_train, X_test, y_train, y_test)\n",
        "\n",
        "# Support Vector Classification (SVC)\n",
        "print(\"Support Vector Classification (SVC):\")\n",
        "svc_model = SVC(random_state=42)\n",
        "evaluate_model(svc_model, X_train, X_test, y_train, y_test)\n",
        "\n",
        "# K-Nearest Neighbors (KNN)\n",
        "print(\"K-Nearest Neighbors (KNN):\")\n",
        "knn_model = KNeighborsClassifier()\n",
        "evaluate_model(knn_model, X_train, X_test, y_train, y_test)\n"
      ],
      "metadata": {
        "colab": {
          "base_uri": "https://localhost:8080/"
        },
        "id": "_d9bQ7JYReM4",
        "outputId": "c5adc4c4-7bf7-4949-f563-c55c1f877b23"
      },
      "execution_count": null,
      "outputs": [
        {
          "output_type": "stream",
          "name": "stdout",
          "text": [
            "Random Forest Classifier:\n",
            "Accuracy: 1.00\n",
            "Precision: 1.00\n",
            "Recall: 1.00\n",
            "F1-Score: 1.00\n",
            "------------------------------\n",
            "Decision Tree Classifier:\n",
            "Accuracy: 1.00\n",
            "Precision: 1.00\n",
            "Recall: 1.00\n",
            "F1-Score: 1.00\n",
            "------------------------------\n",
            "Logistic Regression:\n"
          ]
        },
        {
          "output_type": "stream",
          "name": "stderr",
          "text": [
            "/usr/local/lib/python3.11/dist-packages/sklearn/linear_model/_logistic.py:465: ConvergenceWarning: lbfgs failed to converge (status=1):\n",
            "STOP: TOTAL NO. of ITERATIONS REACHED LIMIT.\n",
            "\n",
            "Increase the number of iterations (max_iter) or scale the data as shown in:\n",
            "    https://scikit-learn.org/stable/modules/preprocessing.html\n",
            "Please also refer to the documentation for alternative solver options:\n",
            "    https://scikit-learn.org/stable/modules/linear_model.html#logistic-regression\n",
            "  n_iter_i = _check_optimize_result(\n"
          ]
        },
        {
          "output_type": "stream",
          "name": "stdout",
          "text": [
            "Accuracy: 0.95\n",
            "Precision: 0.94\n",
            "Recall: 0.95\n",
            "F1-Score: 0.94\n",
            "------------------------------\n",
            "Support Vector Classification (SVC):\n",
            "Accuracy: 0.99\n",
            "Precision: 1.00\n",
            "Recall: 0.99\n",
            "F1-Score: 0.99\n",
            "------------------------------\n",
            "K-Nearest Neighbors (KNN):\n",
            "Accuracy: 1.00\n",
            "Precision: 0.99\n",
            "Recall: 1.00\n",
            "F1-Score: 1.00\n",
            "------------------------------\n"
          ]
        }
      ]
    },
    {
      "cell_type": "code",
      "source": [
        "import pandas as pd\n",
        "import seaborn as sns\n",
        "import matplotlib.pyplot as plt\n",
        "from sklearn.model_selection import train_test_split\n",
        "from sklearn.tree import DecisionTreeClassifier\n",
        "from sklearn.metrics import accuracy_score, classification_report\n",
        "from sklearn.preprocessing import LabelEncoder\n",
        "\n",
        "# Load the dataset directly from the URL\n",
        "url = 'https://raw.githubusercontent.com/usmanakhtar/Mushrooms-dataset/master/mushrooms.csv'\n",
        "data = pd.read_csv(url)\n",
        "\n",
        "# Show the first few rows of the dataset\n",
        "print(data.head())\n"
      ],
      "metadata": {
        "colab": {
          "base_uri": "https://localhost:8080/"
        },
        "id": "4itFJo4RKw6T",
        "outputId": "b2218d76-ce2d-429f-8ca5-9cfaccbb8c54"
      },
      "execution_count": null,
      "outputs": [
        {
          "output_type": "stream",
          "name": "stdout",
          "text": [
            "  class cap-shape cap-surface cap-color bruises odor gill-attachment  \\\n",
            "0     p         x           s         n       t    p               f   \n",
            "1     e         x           s         y       t    a               f   \n",
            "2     e         b           s         w       t    l               f   \n",
            "3     p         x           y         w       t    p               f   \n",
            "4     e         x           s         g       f    n               f   \n",
            "\n",
            "  gill-spacing gill-size gill-color  ... stalk-surface-below-ring  \\\n",
            "0            c         n          k  ...                        s   \n",
            "1            c         b          k  ...                        s   \n",
            "2            c         b          n  ...                        s   \n",
            "3            c         n          n  ...                        s   \n",
            "4            w         b          k  ...                        s   \n",
            "\n",
            "  stalk-color-above-ring stalk-color-below-ring veil-type veil-color  \\\n",
            "0                      w                      w         p          w   \n",
            "1                      w                      w         p          w   \n",
            "2                      w                      w         p          w   \n",
            "3                      w                      w         p          w   \n",
            "4                      w                      w         p          w   \n",
            "\n",
            "  ring-number ring-type spore-print-color population habitat  \n",
            "0           o         p                 k          s       u  \n",
            "1           o         p                 n          n       g  \n",
            "2           o         p                 n          n       m  \n",
            "3           o         p                 k          s       u  \n",
            "4           o         e                 n          a       g  \n",
            "\n",
            "[5 rows x 23 columns]\n"
          ]
        }
      ]
    },
    {
      "cell_type": "code",
      "source": [
        "# Get basic information about the dataset\n",
        "print(data.info())\n",
        "\n",
        "# Check for missing values (if any)\n",
        "print(data.isnull().sum())\n",
        "\n",
        "# Show the distribution of the 'class' (edible vs poisonous)\n",
        "print(data['class'].value_counts())\n"
      ],
      "metadata": {
        "colab": {
          "base_uri": "https://localhost:8080/"
        },
        "id": "73B0VNyUPSQZ",
        "outputId": "85e2f67a-fb92-4335-af32-91cb1634946e"
      },
      "execution_count": null,
      "outputs": [
        {
          "output_type": "stream",
          "name": "stdout",
          "text": [
            "<class 'pandas.core.frame.DataFrame'>\n",
            "RangeIndex: 8124 entries, 0 to 8123\n",
            "Data columns (total 23 columns):\n",
            " #   Column                    Non-Null Count  Dtype \n",
            "---  ------                    --------------  ----- \n",
            " 0   class                     8124 non-null   object\n",
            " 1   cap-shape                 8124 non-null   object\n",
            " 2   cap-surface               8124 non-null   object\n",
            " 3   cap-color                 8124 non-null   object\n",
            " 4   bruises                   8124 non-null   object\n",
            " 5   odor                      8124 non-null   object\n",
            " 6   gill-attachment           8124 non-null   object\n",
            " 7   gill-spacing              8124 non-null   object\n",
            " 8   gill-size                 8124 non-null   object\n",
            " 9   gill-color                8124 non-null   object\n",
            " 10  stalk-shape               8124 non-null   object\n",
            " 11  stalk-root                8124 non-null   object\n",
            " 12  stalk-surface-above-ring  8124 non-null   object\n",
            " 13  stalk-surface-below-ring  8124 non-null   object\n",
            " 14  stalk-color-above-ring    8124 non-null   object\n",
            " 15  stalk-color-below-ring    8124 non-null   object\n",
            " 16  veil-type                 8124 non-null   object\n",
            " 17  veil-color                8124 non-null   object\n",
            " 18  ring-number               8124 non-null   object\n",
            " 19  ring-type                 8124 non-null   object\n",
            " 20  spore-print-color         8124 non-null   object\n",
            " 21  population                8124 non-null   object\n",
            " 22  habitat                   8124 non-null   object\n",
            "dtypes: object(23)\n",
            "memory usage: 1.4+ MB\n",
            "None\n",
            "class                       0\n",
            "cap-shape                   0\n",
            "cap-surface                 0\n",
            "cap-color                   0\n",
            "bruises                     0\n",
            "odor                        0\n",
            "gill-attachment             0\n",
            "gill-spacing                0\n",
            "gill-size                   0\n",
            "gill-color                  0\n",
            "stalk-shape                 0\n",
            "stalk-root                  0\n",
            "stalk-surface-above-ring    0\n",
            "stalk-surface-below-ring    0\n",
            "stalk-color-above-ring      0\n",
            "stalk-color-below-ring      0\n",
            "veil-type                   0\n",
            "veil-color                  0\n",
            "ring-number                 0\n",
            "ring-type                   0\n",
            "spore-print-color           0\n",
            "population                  0\n",
            "habitat                     0\n",
            "dtype: int64\n",
            "class\n",
            "e    4208\n",
            "p    3916\n",
            "Name: count, dtype: int64\n"
          ]
        }
      ]
    },
    {
      "cell_type": "code",
      "source": [
        "# Plot the count of edible vs poisonous mushrooms\n",
        "plt.figure(figsize=(6, 4))\n",
        "sns.countplot(x='class', data=data)\n",
        "plt.title('Edible vs Poisonous Mushrooms')\n",
        "plt.show()\n"
      ],
      "metadata": {
        "colab": {
          "base_uri": "https://localhost:8080/",
          "height": 410
        },
        "id": "O4VoYAdxPXiD",
        "outputId": "74732c8a-027f-4572-fdf6-938f37d57392"
      },
      "execution_count": null,
      "outputs": [
        {
          "output_type": "display_data",
          "data": {
            "text/plain": [
              "<Figure size 600x400 with 1 Axes>"
            ],
            "image/png": "[encoded data removed]"
          },
          "metadata": {}
        }
      ]
    },
    {
      "cell_type": "code",
      "source": [
        "# Encode categorical data into numeric values\n",
        "label_encoder = LabelEncoder()\n",
        "data_encoded = data.apply(label_encoder.fit_transform)\n",
        "\n",
        "# Show the first few rows of the encoded dataset\n",
        "print(data_encoded.head())\n"
      ],
      "metadata": {
        "colab": {
          "base_uri": "https://localhost:8080/"
        },
        "id": "Ci7l-4xdPayM",
        "outputId": "0cfeaacc-c253-4fb9-fbee-c80061c4208a"
      },
      "execution_count": null,
      "outputs": [
        {
          "output_type": "stream",
          "name": "stdout",
          "text": [
            "   class  cap-shape  cap-surface  cap-color  bruises  odor  gill-attachment  \\\n",
            "0      1          5            2          4        1     6                1   \n",
            "1      0          5            2          9        1     0                1   \n",
            "2      0          0            2          8        1     3                1   \n",
            "3      1          5            3          8        1     6                1   \n",
            "4      0          5            2          3        0     5                1   \n",
            "\n",
            "   gill-spacing  gill-size  gill-color  ...  stalk-surface-below-ring  \\\n",
            "0             0          1           4  ...                         2   \n",
            "1             0          0           4  ...                         2   \n",
            "2             0          0           5  ...                         2   \n",
            "3             0          1           5  ...                         2   \n",
            "4             1          0           4  ...                         2   \n",
            "\n",
            "   stalk-color-above-ring  stalk-color-below-ring  veil-type  veil-color  \\\n",
            "0                       7                       7          0           2   \n",
            "1                       7                       7          0           2   \n",
            "2                       7                       7          0           2   \n",
            "3                       7                       7          0           2   \n",
            "4                       7                       7          0           2   \n",
            "\n",
            "   ring-number  ring-type  spore-print-color  population  habitat  \n",
            "0            1          4                  2           3        5  \n",
            "1            1          4                  3           2        1  \n",
            "2            1          4                  3           2        3  \n",
            "3            1          4                  2           3        5  \n",
            "4            1          0                  3           0        1  \n",
            "\n",
            "[5 rows x 23 columns]\n"
          ]
        }
      ]
    },
    {
      "cell_type": "code",
      "source": [
        "# Define features (X) and target variable (y)\n",
        "X = data_encoded.drop('class', axis=1)  # All columns except 'class'\n",
        "y = data_encoded['class']  # 'class' column is the target variable\n",
        "\n",
        "# Split the data into training and testing sets (80% train, 20% test)\n",
        "X_train, X_test, y_train, y_test = train_test_split(X, y, test_size=0.2, random_state=42)\n",
        "\n",
        "print(f'Training set size: {X_train.shape[0]}, Test set size: {X_test.shape[0]}')\n"
      ],
      "metadata": {
        "colab": {
          "base_uri": "https://localhost:8080/"
        },
        "id": "3TzlXNwtPera",
        "outputId": "f0d4af61-8783-49fa-a5ea-9831295c28fb"
      },
      "execution_count": null,
      "outputs": [
        {
          "output_type": "stream",
          "name": "stdout",
          "text": [
            "Training set size: 6499, Test set size: 1625\n"
          ]
        }
      ]
    },
    {
      "cell_type": "code",
      "source": [
        "# Create a Decision Tree Classifier model\n",
        "model = DecisionTreeClassifier(random_state=42)\n",
        "\n",
        "# Train the model with the training data\n",
        "model.fit(X_train, y_train)\n",
        "\n",
        "# Make predictions on the test set\n",
        "y_pred = model.predict(X_test)\n",
        "# Evaluate the model performance\n",
        "print(\"Accuracy:\", accuracy_score(y_test, y_pred))\n",
        "print(\"Classification Report:\")\n",
        "print(classification_report(y_test, y_pred))\n"
      ],
      "metadata": {
        "colab": {
          "base_uri": "https://localhost:8080/"
        },
        "id": "BIikA8TOPjhK",
        "outputId": "7818a711-0c32-4789-c4b0-bfbc38dac4dd"
      },
      "execution_count": null,
      "outputs": [
        {
          "output_type": "stream",
          "name": "stdout",
          "text": [
            "Accuracy: 1.0\n",
            "Classification Report:\n",
            "              precision    recall  f1-score   support\n",
            "\n",
            "           0       1.00      1.00      1.00       843\n",
            "           1       1.00      1.00      1.00       782\n",
            "\n",
            "    accuracy                           1.00      1625\n",
            "   macro avg       1.00      1.00      1.00      1625\n",
            "weighted avg       1.00      1.00      1.00      1625\n",
            "\n"
          ]
        }
      ]
    }
  ]
}